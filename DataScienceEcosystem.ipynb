{
 "cells": [
  {
   "cell_type": "markdown",
   "id": "491807dc-40d4-45a0-95d2-1a5b4732ebfd",
   "metadata": {},
   "source": [
    "# Data Science Tools and Ecosystem"
   ]
  },
  {
   "cell_type": "markdown",
   "id": "03af5557-64ba-4846-a44c-84b3ce086822",
   "metadata": {},
   "source": [
    "In this notebook, Data Science Tools and Ecosystem are summarized."
   ]
  },
  {
   "cell_type": "markdown",
   "id": "ab59fc22-0b0d-43c6-bf94-5d4b48cde81e",
   "metadata": {},
   "source": [
    "Some of the popular languages that Data Scientists use are:\n",
    "1. R\n",
    "2. Python\n",
    "3. Java\n",
    "4. C++"
   ]
  },
  {
   "cell_type": "markdown",
   "id": "1890e78d-22ea-4c02-9c6b-d0b4de3c84a1",
   "metadata": {},
   "source": [
    "Some of the commonly used libraries used by Data Scientists include:\n",
    "1. pandas\n",
    "2. numpy\n",
    "3. Keras\n",
    "4. seaborn"
   ]
  },
  {
   "cell_type": "markdown",
   "id": "51bd4c57-38b9-4cb4-bfb1-83ae67540247",
   "metadata": {},
   "source": [
    "| Data Science tools |\n",
    "|--------------------|\n",
    "|Tensorflow          |\n",
    "|R-js                |\n",
    "|MLlib               |\n"
   ]
  },
  {
   "cell_type": "markdown",
   "id": "1a73d8ee-321e-4b1f-ac42-19471d4d5ca3",
   "metadata": {},
   "source": [
    "### Below are a few examples of evaluating arithmetic expressions in Python"
   ]
  },
  {
   "cell_type": "code",
   "execution_count": 2,
   "id": "08ad2c17-53ec-4421-ac83-33f43865e95a",
   "metadata": {},
   "outputs": [
    {
     "data": {
      "text/plain": [
       "17"
      ]
     },
     "execution_count": 2,
     "metadata": {},
     "output_type": "execute_result"
    }
   ],
   "source": [
    "# This a simple arithmetic expression to mutiply then add integers\n",
    "(3*4)+5"
   ]
  },
  {
   "cell_type": "code",
   "execution_count": 4,
   "id": "52188983-5b0d-498f-999f-fecc48e92fe3",
   "metadata": {},
   "outputs": [
    {
     "data": {
      "text/plain": [
       "3.3333333333333335"
      ]
     },
     "execution_count": 4,
     "metadata": {},
     "output_type": "execute_result"
    }
   ],
   "source": [
    "#This will convert 200 minutes to hours by diving by 60\n",
    "200/60"
   ]
  },
  {
   "cell_type": "code",
   "execution_count": 5,
   "id": "811f42b9-b2e8-4356-bfd6-df65077bdca1",
   "metadata": {},
   "outputs": [
    {
     "data": {
      "text/plain": [
       "12000"
      ]
     },
     "execution_count": 5,
     "metadata": {},
     "output_type": "execute_result"
    }
   ],
   "source": [
    "#This will convert 200 hours to minutes by multiplying by 60\n",
    "200*60"
   ]
  },
  {
   "cell_type": "markdown",
   "id": "73178839-bf07-4785-a394-c070d4c0b2f4",
   "metadata": {},
   "source": [
    "**Objectives:**\n",
    "* List popular languages for Data Science\n",
    "* List commonly used libraries for Data Science\n",
    "* List some tools used by Data Science\n"
   ]
  },
  {
   "cell_type": "markdown",
   "id": "a98f8254-17a5-4d24-8987-69a3b38dc38a",
   "metadata": {},
   "source": [
    "## Author\n",
    "Lac Nguyen"
   ]
  },
  {
   "cell_type": "code",
   "execution_count": null,
   "id": "0d8a1ad6-6e6e-4de4-87fd-e62ba691d75a",
   "metadata": {},
   "outputs": [],
   "source": []
  }
 ],
 "metadata": {
  "kernelspec": {
   "display_name": "Python 3 (ipykernel)",
   "language": "python",
   "name": "python3"
  },
  "language_info": {
   "codemirror_mode": {
    "name": "ipython",
    "version": 3
   },
   "file_extension": ".py",
   "mimetype": "text/x-python",
   "name": "python",
   "nbconvert_exporter": "python",
   "pygments_lexer": "ipython3",
   "version": "3.12.2"
  }
 },
 "nbformat": 4,
 "nbformat_minor": 5
}
